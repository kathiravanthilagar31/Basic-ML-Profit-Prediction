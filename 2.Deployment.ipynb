{
 "cells": [
  {
   "cell_type": "code",
   "execution_count": 1,
   "id": "a37999f1-6de4-43f6-a87a-b224d4d199cf",
   "metadata": {},
   "outputs": [],
   "source": [
    "import pickle"
   ]
  },
  {
   "cell_type": "code",
   "execution_count": 3,
   "id": "dc2a8443-da9f-42ef-9528-34491931a85d",
   "metadata": {},
   "outputs": [],
   "source": [
    "loaded_model=pickle.load(open(\"finalized_multiple_linear.sav\",'rb'))"
   ]
  },
  {
   "cell_type": "code",
   "execution_count": 7,
   "id": "fcb3a537-4a28-4017-bd9b-6c1de55d863c",
   "metadata": {},
   "outputs": [
    {
     "name": "stdin",
     "output_type": "stream",
     "text": [
      "Enter R&D Spend: 1234\n",
      "Enter Admin spend: 345\n",
      "Enter Marketing Spend: 4565\n",
      "Enter 1 if it is in Florida, if not, enter 0 1\n",
      "Enter 1 if it is in Florida, if not, enter 0 0\n"
     ]
    },
    {
     "name": "stderr",
     "output_type": "stream",
     "text": [
      "C:\\Users\\kathi\\anaconda3\\Lib\\site-packages\\sklearn\\base.py:493: UserWarning: X does not have valid feature names, but LinearRegression was fitted with feature names\n",
      "  warnings.warn(\n"
     ]
    }
   ],
   "source": [
    "RandD=float(input('Enter R&D Spend:'))\n",
    "Admin=float(input('Enter Admin spend:'))\n",
    "Marketing=float(input('Enter Marketing Spend:'))\n",
    "Florida=int(input('Enter 1 if it is in Florida, if not, enter 0'))\n",
    "Newyork=int(input('Enter 1 if it is in Florida, if not, enter 0'))\n",
    "result=loaded_model.predict([[RandD,Admin,Marketing,Florida,Newyork]])"
   ]
  },
  {
   "cell_type": "code",
   "execution_count": 8,
   "id": "681d37c8-dde8-44f8-81c6-86f0b0da890c",
   "metadata": {},
   "outputs": [
    {
     "data": {
      "text/plain": [
       "array([[43994.79745873]])"
      ]
     },
     "execution_count": 8,
     "metadata": {},
     "output_type": "execute_result"
    }
   ],
   "source": [
    "result"
   ]
  },
  {
   "cell_type": "code",
   "execution_count": null,
   "id": "0ec30d0f-734c-4678-954b-529ec27fde52",
   "metadata": {},
   "outputs": [],
   "source": []
  }
 ],
 "metadata": {
  "kernelspec": {
   "display_name": "Python 3 (ipykernel)",
   "language": "python",
   "name": "python3"
  },
  "language_info": {
   "codemirror_mode": {
    "name": "ipython",
    "version": 3
   },
   "file_extension": ".py",
   "mimetype": "text/x-python",
   "name": "python",
   "nbconvert_exporter": "python",
   "pygments_lexer": "ipython3",
   "version": "3.12.4"
  }
 },
 "nbformat": 4,
 "nbformat_minor": 5
}
