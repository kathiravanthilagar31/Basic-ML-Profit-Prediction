{
 "cells": [
  {
   "cell_type": "code",
   "execution_count": 1,
   "id": "2414827f-333a-4b55-8753-649942ba621d",
   "metadata": {},
   "outputs": [],
   "source": [
    "import pickle"
   ]
  },
  {
   "cell_type": "code",
   "execution_count": 2,
   "id": "e3e8b67b-1394-4200-9a76-d7198633260f",
   "metadata": {},
   "outputs": [],
   "source": [
    "sc=pickle.load(open(\"sc.sav\",'rb'))\n",
    "scy=pickle.load(open(\"scy.sav\",'rb'))"
   ]
  },
  {
   "cell_type": "code",
   "execution_count": 3,
   "id": "1f3e6638-427b-4708-8387-babf0af65139",
   "metadata": {},
   "outputs": [],
   "source": [
    "loaded=pickle.load(open(\"finalized_SVMprepIPOP.sav\",'rb'))"
   ]
  },
  {
   "cell_type": "code",
   "execution_count": 4,
   "id": "ebc62b0d-120b-4eb4-b7af-122a60d13f89",
   "metadata": {},
   "outputs": [
    {
     "name": "stderr",
     "output_type": "stream",
     "text": [
      "C:\\Users\\kathi\\anaconda3\\Lib\\site-packages\\sklearn\\base.py:493: UserWarning: X does not have valid feature names, but StandardScaler was fitted with feature names\n",
      "  warnings.warn(\n"
     ]
    }
   ],
   "source": [
    "preinput=sc.transform([[1300,12000,4000,0,1]])"
   ]
  },
  {
   "cell_type": "code",
   "execution_count": 5,
   "id": "379c54a2-30f6-40c0-ab24-c5e093c5efd1",
   "metadata": {},
   "outputs": [
    {
     "data": {
      "text/plain": [
       "array([-1.49145089])"
      ]
     },
     "execution_count": 5,
     "metadata": {},
     "output_type": "execute_result"
    }
   ],
   "source": [
    "result=loaded.predict(preinput)\n",
    "result"
   ]
  },
  {
   "cell_type": "code",
   "execution_count": 10,
   "id": "e20a90cb-4f49-447c-9d97-659c9aed8817",
   "metadata": {},
   "outputs": [],
   "source": [
    "preoutput=scy.inverse_transform([result])"
   ]
  },
  {
   "cell_type": "code",
   "execution_count": 11,
   "id": "851c6121-450f-414d-8b40-5e52173b4cb7",
   "metadata": {},
   "outputs": [
    {
     "data": {
      "text/plain": [
       "array([[46073.89847693]])"
      ]
     },
     "execution_count": 11,
     "metadata": {},
     "output_type": "execute_result"
    }
   ],
   "source": [
    "preoutput"
   ]
  },
  {
   "cell_type": "code",
   "execution_count": null,
   "id": "c624e8b8-824b-46c2-846f-75ec422e4d20",
   "metadata": {},
   "outputs": [],
   "source": []
  }
 ],
 "metadata": {
  "kernelspec": {
   "display_name": "Python 3 (ipykernel)",
   "language": "python",
   "name": "python3"
  },
  "language_info": {
   "codemirror_mode": {
    "name": "ipython",
    "version": 3
   },
   "file_extension": ".py",
   "mimetype": "text/x-python",
   "name": "python",
   "nbconvert_exporter": "python",
   "pygments_lexer": "ipython3",
   "version": "3.11.11"
  }
 },
 "nbformat": 4,
 "nbformat_minor": 5
}
